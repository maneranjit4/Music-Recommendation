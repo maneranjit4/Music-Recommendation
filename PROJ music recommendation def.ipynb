{
 "cells": [
  {
   "cell_type": "code",
   "execution_count": 14,
   "id": "da30230a",
   "metadata": {},
   "outputs": [],
   "source": [
    "def music_recomm():\n",
    "    try:\n",
    "        import pandas as pd\n",
    "        import numpy as np\n",
    "        from sklearn.preprocessing import MinMaxScaler\n",
    "        from sklearn.metrics.pairwise import cosine_similarity\n",
    "        from sklearn.cluster import KMeans\n",
    "        import warnings\n",
    "        warnings.filterwarnings(\"ignore\")\n",
    "        \n",
    "        df = pd.read_csv(r\"C:\\Users\\maner\\OneDrive\\Desktop\\New folder\\Pandas dataset\\proj datasets\\music\\tracks_features.csv\\tracks_features.csv\")\n",
    "        df.release_date = pd.to_datetime(df.release_date, errors = 'coerce')\n",
    "        df = df.dropna()\n",
    "        df['quarter'] = df.release_date.dt.quarter\n",
    "        df.explicit = df.explicit.astype('int')\n",
    "        train_features = ['explicit', 'danceability', 'energy','key', 'loudness', 'mode', 'speechiness', 'acousticness',\n",
    "                      'instrumentalness', 'liveness', 'valence', 'tempo', 'duration_ms','time_signature']\n",
    "        training_df = df[train_features]\n",
    "        scale = MinMaxScaler()\n",
    "        scale.fit(training_df)\n",
    "        training_df = pd.DataFrame(scale.transform(training_df), \n",
    "                                    index=df.id,\n",
    "                                    columns=training_df.columns)\n",
    "        training_df = training_df[training_df.columns].astype('float32')\n",
    "        kmeans = KMeans(n_clusters=10)\n",
    "        kmeans.fit(training_df)\n",
    "        training_df['cluster'] = kmeans.labels_\n",
    "        df['cluster'] = kmeans.labels_\n",
    "\n",
    "        ip = input(\"Enter the Song Name --> \")\n",
    "        if df[df.name.str.lower() == ip.lower()].shape[0] > 1:\n",
    "            print(f\"Many matches found for song {ip}\")\n",
    "            album = input(\"Please Enter the album name --> \")\n",
    "            idx = df[(df.name.str.lower() == ip.lower())&(df.album.str.lower() == al.lower())]['id'][0]\n",
    "            clstr = df[(df.name.str.lower() == ip.lower())&(df.album.str.lower() == al.lower())]['cluster'][0]\n",
    "        else :\n",
    "            idx = list(df[df.name.str.lower() == ip.lower()]['id'])[0]\n",
    "            clstr = list(df[df.name.str.lower() == ip.lower()]['cluster'])[0]\n",
    "        i = int(input(\"How many simillar songs are needed --> \"))\n",
    "        q = input(\"Do you need recommendation of specific period (y/n) --> \")\n",
    "        if q.lower() == 'n':\n",
    "            recomm_playlist = df[(df.cluster == clstr) & (df.id != idx)][['id','name','album','artists']].sample(i)\n",
    "            return recomm_playlist\n",
    "        else:\n",
    "            year = int(input(\"enter the year --> \"))\n",
    "            qtr = int(input(\"enter the quarter (1/2/3/4) --> \"))\n",
    "            df1 = df[(df.year == year) & (df.quarter == qtr)& (df.cluster == clstr)]\n",
    "            df1 = pd.concat([df1,df[df.id == idx]])\n",
    "            training_df1 = df1[train_features]\n",
    "            scale1 = MinMaxScaler()\n",
    "            training_df1 = pd.DataFrame(scale.transform(training_df1), \n",
    "                                    index=df1.id,\n",
    "                                    columns=training_df1.columns)\n",
    "            cos_data = cosine_similarity(training_df1)\n",
    "            cos_df = pd.DataFrame(cos_data, index = list(training_df1.index), columns = list(training_df1.index))\n",
    "            recom_ids = list(cos_df.iloc[::,-1][1:i+1].index)\n",
    "            recom1 = pd.DataFrame()\n",
    "            for ids in recom_ids:\n",
    "                recom1 = pd.concat([recom1,df1[df1.id == ids][['id','name','album','artists']]])\n",
    "            return recom1\n",
    "    except:\n",
    "        print(f\"sorry! input song is not in our database\")"
   ]
  },
  {
   "cell_type": "code",
   "execution_count": 8,
   "id": "585bde7e",
   "metadata": {},
   "outputs": [],
   "source": [
    "ip = 'Testify'\n",
    "al = 'The Battle Of Los Angeles'"
   ]
  },
  {
   "cell_type": "code",
   "execution_count": 9,
   "id": "25467331",
   "metadata": {},
   "outputs": [],
   "source": [
    "song = 'If The Heavens Should Fall'"
   ]
  },
  {
   "cell_type": "code",
   "execution_count": 16,
   "id": "032c95f3",
   "metadata": {},
   "outputs": [
    {
     "name": "stdout",
     "output_type": "stream",
     "text": [
      "Enter the Song Name --> If The Heavens Should Fall\n",
      "How many simillar songs are needed --> 5\n",
      "Do you need recommendation of specific period (y/n) --> n\n"
     ]
    }
   ],
   "source": [
    "mus = music_recomm()"
   ]
  },
  {
   "cell_type": "code",
   "execution_count": 17,
   "id": "10e183dd",
   "metadata": {},
   "outputs": [
    {
     "data": {
      "text/html": [
       "<div>\n",
       "<style scoped>\n",
       "    .dataframe tbody tr th:only-of-type {\n",
       "        vertical-align: middle;\n",
       "    }\n",
       "\n",
       "    .dataframe tbody tr th {\n",
       "        vertical-align: top;\n",
       "    }\n",
       "\n",
       "    .dataframe thead th {\n",
       "        text-align: right;\n",
       "    }\n",
       "</style>\n",
       "<table border=\"1\" class=\"dataframe\">\n",
       "  <thead>\n",
       "    <tr style=\"text-align: right;\">\n",
       "      <th></th>\n",
       "      <th>id</th>\n",
       "      <th>name</th>\n",
       "      <th>album</th>\n",
       "      <th>artists</th>\n",
       "    </tr>\n",
       "  </thead>\n",
       "  <tbody>\n",
       "    <tr>\n",
       "      <th>1096027</th>\n",
       "      <td>23MWEPRoxPRJO78UYY9wfZ</td>\n",
       "      <td>Hameh Abi</td>\n",
       "      <td>Dar Mah-e-Baran (In The Season of Rain)</td>\n",
       "      <td>['Mohammad Nouri', 'Shahram Golparian']</td>\n",
       "    </tr>\n",
       "    <tr>\n",
       "      <th>851622</th>\n",
       "      <td>16zyjYvaQhMODaHKfGnsBZ</td>\n",
       "      <td>Plug It In &amp; Turn Me On</td>\n",
       "      <td>Plug It In</td>\n",
       "      <td>['Krezip']</td>\n",
       "    </tr>\n",
       "    <tr>\n",
       "      <th>663997</th>\n",
       "      <td>7IheDpPevBzlJaHFLoOFJA</td>\n",
       "      <td>Standing Strong - Bonus Track</td>\n",
       "      <td>Ironbark</td>\n",
       "      <td>['The Waifs']</td>\n",
       "    </tr>\n",
       "    <tr>\n",
       "      <th>718732</th>\n",
       "      <td>6snN8NUjM41uWD1yNn8O3t</td>\n",
       "      <td>I Want You</td>\n",
       "      <td>Notorious</td>\n",
       "      <td>['Adelitas Way']</td>\n",
       "    </tr>\n",
       "    <tr>\n",
       "      <th>320231</th>\n",
       "      <td>4vuH5hYzssnaq6SyRaCNZA</td>\n",
       "      <td>Boogie Rambler</td>\n",
       "      <td>The Alligator Records 30th Anniversary Collection</td>\n",
       "      <td>['Lonnie Brooks', 'Long John Hunter', 'Phillip...</td>\n",
       "    </tr>\n",
       "  </tbody>\n",
       "</table>\n",
       "</div>"
      ],
      "text/plain": [
       "                             id                           name  \\\n",
       "1096027  23MWEPRoxPRJO78UYY9wfZ                      Hameh Abi   \n",
       "851622   16zyjYvaQhMODaHKfGnsBZ        Plug It In & Turn Me On   \n",
       "663997   7IheDpPevBzlJaHFLoOFJA  Standing Strong - Bonus Track   \n",
       "718732   6snN8NUjM41uWD1yNn8O3t                     I Want You   \n",
       "320231   4vuH5hYzssnaq6SyRaCNZA                 Boogie Rambler   \n",
       "\n",
       "                                                     album  \\\n",
       "1096027            Dar Mah-e-Baran (In The Season of Rain)   \n",
       "851622                                          Plug It In   \n",
       "663997                                            Ironbark   \n",
       "718732                                           Notorious   \n",
       "320231   The Alligator Records 30th Anniversary Collection   \n",
       "\n",
       "                                                   artists  \n",
       "1096027            ['Mohammad Nouri', 'Shahram Golparian']  \n",
       "851622                                          ['Krezip']  \n",
       "663997                                       ['The Waifs']  \n",
       "718732                                    ['Adelitas Way']  \n",
       "320231   ['Lonnie Brooks', 'Long John Hunter', 'Phillip...  "
      ]
     },
     "execution_count": 17,
     "metadata": {},
     "output_type": "execute_result"
    }
   ],
   "source": [
    "mus"
   ]
  },
  {
   "cell_type": "code",
   "execution_count": null,
   "id": "29c5aed4",
   "metadata": {},
   "outputs": [],
   "source": []
  }
 ],
 "metadata": {
  "kernelspec": {
   "display_name": "Python 3 (ipykernel)",
   "language": "python",
   "name": "python3"
  },
  "language_info": {
   "codemirror_mode": {
    "name": "ipython",
    "version": 3
   },
   "file_extension": ".py",
   "mimetype": "text/x-python",
   "name": "python",
   "nbconvert_exporter": "python",
   "pygments_lexer": "ipython3",
   "version": "3.10.9"
  }
 },
 "nbformat": 4,
 "nbformat_minor": 5
}
